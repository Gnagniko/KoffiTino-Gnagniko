{
 "cells": [
  {
   "cell_type": "code",
   "execution_count": 5,
   "id": "86edc044-6d26-4206-ba73-4f6091356e3e",
   "metadata": {},
   "outputs": [
    {
     "name": "stderr",
     "output_type": "stream",
     "text": [
      "The information shown below represents the structure and format of the prediction data recorded by Domino when this model is deployed as a Domino Model API\n",
      "\n",
      "{\"predictions\": {\"quality\": 6.622450450874484}, \"features\": {\"density\": 0.99, \"volatile_acidity\": 0.028, \"chlorides\": 0.05, \"is_red\": 0, \"alcohol\": 11.1}, \"metadata\": null, \"timestamp\": \"2025-01-20T19:21:32.637495+00:00\", \"__domino_timestamp\": \"2025-01-20T19:21:32.637495+00:00\", \"event_id\": \"e85a8671-aa79-4888-8159-cdc989fa43c6\", \"prediction_probability\": null, \"sample_weight\": null, \"instance_id\": null}\n"
     ]
    },
    {
     "data": {
      "text/plain": [
       "{'predictions': {'quality': 6.622450450874484},\n",
       " 'features': {'density': 0.99,\n",
       "  'volatile_acidity': 0.028,\n",
       "  'chlorides': 0.05,\n",
       "  'is_red': 0,\n",
       "  'alcohol': 11.1},\n",
       " 'metadata': None,\n",
       " 'timestamp': '2025-01-20T19:21:32.637495+00:00',\n",
       " '__domino_timestamp': '2025-01-20T19:21:32.637495+00:00',\n",
       " 'event_id': 'e85a8671-aa79-4888-8159-cdc989fa43c6',\n",
       " 'prediction_probability': None,\n",
       " 'sample_weight': None,\n",
       " 'instance_id': None}"
      ]
     },
     "execution_count": 5,
     "metadata": {},
     "output_type": "execute_result"
    }
   ],
   "source": [
    "import pickle\n",
    "import uuid\n",
    "import datetime\n",
    "import numpy as np\n",
    "\n",
    "model_file_name = \"/mnt/code/models/sklearn_gbm.pkl\"\n",
    "model = pickle.load(open(model_file_name, 'rb'))\n",
    "\n",
    "# from domino_prediction_logging.prediction_client import PredictionClient\n",
    "from domino_data_capture.data_capture_client import DataCaptureClient\n",
    "\n",
    "features = ['density', 'volatile_acidity', 'chlorides', 'is_red', 'alcohol']\n",
    "\n",
    "target = [\"quality\"]\n",
    "\n",
    "# pred_client = PredictionClient(features, target)\n",
    "data_capture_client = DataCaptureClient(features, target)\n",
    "\n",
    "feature_values = [0.99, 0.028, 0.05, 0, 11.1]\n",
    "prediction = model.predict([feature_values]).tolist()\n",
    "\n",
    "# pred_client.record(feature_values, prediction, event_id=custid)\n",
    "data_capture_client.capturePrediction(feature_values, prediction)"
   ]
  },
  {
   "cell_type": "code",
   "execution_count": 7,
   "id": "0c6b139d-f71f-4453-8a36-39b4e9264721",
   "metadata": {},
   "outputs": [
    {
     "ename": "ModuleNotFoundError",
     "evalue": "No module named 'predict'",
     "output_type": "error",
     "traceback": [
      "\u001b[0;31m---------------------------------------------------------------------------\u001b[0m",
      "\u001b[0;31mModuleNotFoundError\u001b[0m                       Traceback (most recent call last)",
      "Cell \u001b[0;32mIn[7], line 1\u001b[0m\n\u001b[0;32m----> 1\u001b[0m \u001b[38;5;28;01mfrom\u001b[39;00m \u001b[38;5;21;01mpredict\u001b[39;00m \u001b[38;5;28;01mimport\u001b[39;00m \u001b[38;5;241m*\u001b[39m \n\u001b[1;32m      3\u001b[0m predict(\u001b[38;5;241m0.99\u001b[39m, \u001b[38;5;241m0.028\u001b[39m, \u001b[38;5;241m0.05\u001b[39m, \u001b[38;5;241m0\u001b[39m, \u001b[38;5;241m11.1\u001b[39m, wine_id\u001b[38;5;241m=\u001b[39m\u001b[38;5;28;01mNone\u001b[39;00m)\n",
      "\u001b[0;31mModuleNotFoundError\u001b[0m: No module named 'predict'"
     ]
    }
   ],
   "source": [
    "from predict import * \n",
    "\n",
    "predict(0.99, 0.028, 0.05, 0, 11.1, wine_id=None)\n"
   ]
  },
  {
   "cell_type": "code",
   "execution_count": null,
   "id": "dfde1b3f-87d2-4ada-ab11-583cb7f0ea96",
   "metadata": {},
   "outputs": [],
   "source": []
  }
 ],
 "metadata": {
  "kernelspec": {
   "display_name": "Python 3 (ipykernel)",
   "language": "python",
   "name": "python3"
  },
  "language_info": {
   "codemirror_mode": {
    "name": "ipython",
    "version": 3
   },
   "file_extension": ".py",
   "mimetype": "text/x-python",
   "name": "python",
   "nbconvert_exporter": "python",
   "pygments_lexer": "ipython3",
   "version": "3.9.18"
  }
 },
 "nbformat": 4,
 "nbformat_minor": 5
}
