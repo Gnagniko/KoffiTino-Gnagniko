{
 "cells": [
  {
   "cell_type": "code",
   "execution_count": null,
   "id": "5fb63237",
   "metadata": {},
   "outputs": [],
   "source": [
    "from domino.training_sets import TrainingSetClient, model #interface to define and initialize a training data set\n",
    "import pandas as pd\n",
    "\n",
    "df=pd.read_csv(\"train.csv\")\n",
    "training_set_name=\"dbs-test-data\"\n",
    "\n",
    "tsv=TrainingSetClient.create_training_set_version(\n",
    "  training_set_name=training_set_name,\n",
    "  df=df,\n",
    "  key_columns=[],\n",
    "  target_columns=[\"price\"], #the value of this property would be used later in the DataCaptureClient’s signature\n",
    "  exclude_columns=[],\n",
    "  monitoring_meta=model.MonitoringMeta(\n",
    "    timestamp_columns=[],\n",
    "    categorical_columns=[],\n",
    "    ordinal_columns=[],\n",
    "    ),\n",
    "  meta={\"year\": \"2022\"}\n",
    "  )\n",
    "\n",
    "print(f\"Training Set Version {tsv.training_set_name}:{tsv.number}\") #properties to invoke on the TrainingSetClient object to get it’s name and version number\n",
    "df.head()"
   ]
  },
  {
   "cell_type": "code",
   "execution_count": null,
   "id": "601e010e",
   "metadata": {},
   "outputs": [],
   "source": [
    "import numpy\n",
    "from sklearn import linear_model\n",
    "train=linear_model.LinearRegression() #y=mx+c\n",
    "train.fit(df[['area']].values,df.price) #train model on our dataset\n",
    "train.coef_ #slope"
   ]
  },
  {
   "cell_type": "code",
   "execution_count": null,
   "id": "3f2a9b53",
   "metadata": {},
   "outputs": [],
   "source": [
    "train.intercept_ #point of inception"
   ]
  },
  {
   "cell_type": "code",
   "execution_count": null,
   "id": "d130e6cd",
   "metadata": {},
   "outputs": [],
   "source": [
    "train.predict([[5000]]) #invoking the model on data point 5000"
   ]
  },
  {
   "cell_type": "code",
   "execution_count": null,
   "id": "f6e45147",
   "metadata": {},
   "outputs": [],
   "source": [
    "import pickle\n",
    "\n",
    "# Saving to disk \n",
    "with open('serialized_model', 'wb') as files:\n",
    "  pickle.dump(train, files)"
   ]
  },
  {
   "cell_type": "code",
   "execution_count": null,
   "id": "3e926d46",
   "metadata": {},
   "outputs": [],
   "source": [
    "# for how the file and the method you'd pass into the model api would look like\n",
    "\n",
    "import uuid \n",
    "import datetime\n",
    "\n",
    "#domino module to capture and store the prediction dat \n",
    "from domino_data_capture.data_capture_client import DataCaptureClient\n",
    "\n",
    "features=[\"area\"]\n",
    "target=[\"price\"]   #value of this arg/var is what you had set prior when defining the training data set\n",
    "data_capture_client=DataCaptureClient(features,target)   #DataCaptureClient's signature\n",
    "\n",
    "model_file=\"serialized_model\"   #loading the same model saved to disk\n",
    "model=pickle.load(open(model_file,'rb'))\n",
    "\n",
    "def callable_function (area):\n",
    "  feature=[[area]]\n",
    "  price_predict=model.predict(feature)\n",
    "  event_id=uuid.uuid4()\n",
    "  timestamp=datetime.datetime.now(datetime.timezone.utc).isoformat()\n",
    "\n",
    "#invoking the capturePrediction method on the DataCaptureClient object \n",
    "  data_capture_client.capturePrediction(feature,price_predict,event_id=event_id,timestamp=timestamp)"
   ]
  },
  {
   "cell_type": "code",
   "execution_count": null,
   "id": "57c4c327",
   "metadata": {},
   "outputs": [],
   "source": [
    "callable_function(5000) #invoking the model api exposed endpoint"
   ]
  },
  {
   "cell_type": "code",
   "execution_count": null,
   "id": "4b66b46c",
   "metadata": {},
   "outputs": [],
   "source": [
    "def callable_function1 (area):\n",
    "  feature=[[area]]\n",
    "  price_predict=model.predict(feature)\n",
    "  price_predict=price_predict.tolist()\n",
    "  return_val=json.dumps(price_predict)\n",
    "  event_id=uuid.uuid4()\n",
    "  timestamp=datetime.datetime.now(datetime.timezone.utc).isoformat()\n",
    "  pred_capture=data_capture_client.capturePrediction(feature,price_predict,event_id=event_id,timestamp=timestamp) #invoking the capturePrediction method on the DataCaptureClient object\n",
    "  print(f\"Output from data_capture_client : {pred_capture}\")\n",
    "  return return_val"
   ]
  }
 ],
 "metadata": {
  "kernelspec": {
   "display_name": "Python 3 (ipykernel)",
   "language": "python",
   "name": "python3"
  },
  "language_info": {
   "codemirror_mode": {
    "name": "ipython",
    "version": 3
   },
   "file_extension": ".py",
   "mimetype": "text/x-python",
   "name": "python",
   "nbconvert_exporter": "python",
   "pygments_lexer": "ipython3",
   "version": "3.9.16"
  }
 },
 "nbformat": 4,
 "nbformat_minor": 5
}
