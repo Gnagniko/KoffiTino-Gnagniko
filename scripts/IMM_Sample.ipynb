{
 "cells": [
  {
   "cell_type": "code",
   "execution_count": 2,
   "id": "5fb63237",
   "metadata": {},
   "outputs": [
    {
     "name": "stdout",
     "output_type": "stream",
     "text": [
      "Training Set Version dbs-test-data:1\n"
     ]
    },
    {
     "data": {
      "text/html": [
       "<div>\n",
       "<style scoped>\n",
       "    .dataframe tbody tr th:only-of-type {\n",
       "        vertical-align: middle;\n",
       "    }\n",
       "\n",
       "    .dataframe tbody tr th {\n",
       "        vertical-align: top;\n",
       "    }\n",
       "\n",
       "    .dataframe thead th {\n",
       "        text-align: right;\n",
       "    }\n",
       "</style>\n",
       "<table border=\"1\" class=\"dataframe\">\n",
       "  <thead>\n",
       "    <tr style=\"text-align: right;\">\n",
       "      <th></th>\n",
       "      <th>area</th>\n",
       "      <th>price</th>\n",
       "    </tr>\n",
       "  </thead>\n",
       "  <tbody>\n",
       "    <tr>\n",
       "      <th>0</th>\n",
       "      <td>2600</td>\n",
       "      <td>550000</td>\n",
       "    </tr>\n",
       "    <tr>\n",
       "      <th>1</th>\n",
       "      <td>3000</td>\n",
       "      <td>565000</td>\n",
       "    </tr>\n",
       "    <tr>\n",
       "      <th>2</th>\n",
       "      <td>3200</td>\n",
       "      <td>610000</td>\n",
       "    </tr>\n",
       "    <tr>\n",
       "      <th>3</th>\n",
       "      <td>3600</td>\n",
       "      <td>680000</td>\n",
       "    </tr>\n",
       "    <tr>\n",
       "      <th>4</th>\n",
       "      <td>4000</td>\n",
       "      <td>725000</td>\n",
       "    </tr>\n",
       "  </tbody>\n",
       "</table>\n",
       "</div>"
      ],
      "text/plain": [
       "   area   price\n",
       "0  2600  550000\n",
       "1  3000  565000\n",
       "2  3200  610000\n",
       "3  3600  680000\n",
       "4  4000  725000"
      ]
     },
     "execution_count": 2,
     "metadata": {},
     "output_type": "execute_result"
    }
   ],
   "source": [
    "from domino.training_sets import TrainingSetClient, model #interface to define and initialize a training data set\n",
    "import pandas as pd\n",
    "\n",
    "df=pd.read_csv(\"train.csv\")\n",
    "training_set_name=\"dbs-test-data\"\n",
    "\n",
    "tsv=TrainingSetClient.create_training_set_version(\n",
    "  training_set_name=training_set_name,\n",
    "  df=df,\n",
    "  key_columns=[],\n",
    "  target_columns=[\"price\"], #the value of this property would be used later in the DataCaptureClient’s signature\n",
    "  exclude_columns=[],\n",
    "  monitoring_meta=model.MonitoringMeta(\n",
    "    timestamp_columns=[],\n",
    "    categorical_columns=[],\n",
    "    ordinal_columns=[],\n",
    "    ),\n",
    "  meta={\"year\": \"2022\"}\n",
    "  )\n",
    "\n",
    "print(f\"Training Set Version {tsv.training_set_name}:{tsv.number}\") #properties to invoke on the TrainingSetClient object to get it’s name and version number\n",
    "df.head()"
   ]
  },
  {
   "cell_type": "code",
   "execution_count": 3,
   "id": "601e010e",
   "metadata": {},
   "outputs": [
    {
     "data": {
      "text/plain": [
       "array([135.78767123])"
      ]
     },
     "execution_count": 3,
     "metadata": {},
     "output_type": "execute_result"
    }
   ],
   "source": [
    "import numpy\n",
    "from sklearn import linear_model\n",
    "train=linear_model.LinearRegression() #y=mx+c\n",
    "train.fit(df[['area']].values,df.price) #train model on our dataset\n",
    "train.coef_ #slope"
   ]
  },
  {
   "cell_type": "code",
   "execution_count": 4,
   "id": "3f2a9b53",
   "metadata": {},
   "outputs": [
    {
     "data": {
      "text/plain": [
       "180616.43835616432"
      ]
     },
     "execution_count": 4,
     "metadata": {},
     "output_type": "execute_result"
    }
   ],
   "source": [
    "train.intercept_ #point of inception"
   ]
  },
  {
   "cell_type": "code",
   "execution_count": 5,
   "id": "d130e6cd",
   "metadata": {},
   "outputs": [
    {
     "data": {
      "text/plain": [
       "array([859554.79452055])"
      ]
     },
     "execution_count": 5,
     "metadata": {},
     "output_type": "execute_result"
    }
   ],
   "source": [
    "train.predict([[5000]]) #invoking the model on data point 5000"
   ]
  },
  {
   "cell_type": "code",
   "execution_count": 6,
   "id": "f6e45147",
   "metadata": {},
   "outputs": [],
   "source": [
    "import pickle\n",
    "\n",
    "# Saving to disk \n",
    "with open('serialized_model', 'wb') as files:\n",
    "  pickle.dump(train, files)"
   ]
  },
  {
   "cell_type": "code",
   "execution_count": 7,
   "id": "3e926d46",
   "metadata": {},
   "outputs": [],
   "source": [
    "# for how the file and the method you'd pass into the model api would look like\n",
    "\n",
    "import uuid \n",
    "import datetime\n",
    "\n",
    "#domino module to capture and store the prediction dat \n",
    "from domino_data_capture.data_capture_client import DataCaptureClient\n",
    "\n",
    "features=[\"area\"]\n",
    "target=[\"price\"]   #value of this arg/var is what you had set prior when defining the training data set\n",
    "data_capture_client=DataCaptureClient(features,target)   #DataCaptureClient's signature\n",
    "\n",
    "model_file=\"serialized_model\"   #loading the same model saved to disk\n",
    "model=pickle.load(open(model_file,'rb'))\n",
    "\n",
    "def callable_function (area):\n",
    "  feature=[[area]]\n",
    "  price_predict=model.predict(feature)\n",
    "  event_id=uuid.uuid4()\n",
    "  timestamp=datetime.datetime.now(datetime.timezone.utc).isoformat()\n",
    "\n",
    "#invoking the capturePrediction method on the DataCaptureClient object \n",
    "  data_capture_client.capturePrediction(feature,price_predict,event_id=event_id,timestamp=timestamp)"
   ]
  },
  {
   "cell_type": "code",
   "execution_count": 8,
   "id": "57c4c327",
   "metadata": {},
   "outputs": [
    {
     "name": "stderr",
     "output_type": "stream",
     "text": [
      "The information shown below represents the structure and format of the prediction data recorded by Domino when this model is deployed as a Domino Model API\n",
      "\n",
      "{\"predictions\": {\"price\": 859554.7945205481}, \"features\": {\"area\": [5000]}, \"metadata\": null, \"timestamp\": \"2025-01-22T09:54:17.333325+00:00\", \"__domino_timestamp\": \"2025-01-22T09:54:17.333352+00:00\", \"event_id\": \"cf1a9848-59ff-449a-99fe-c2f9670e2001\", \"prediction_probability\": null, \"sample_weight\": null, \"instance_id\": null}\n"
     ]
    }
   ],
   "source": [
    "callable_function(5000) #invoking the model api exposed endpoint"
   ]
  },
  {
   "cell_type": "code",
   "execution_count": 9,
   "id": "4b66b46c",
   "metadata": {},
   "outputs": [],
   "source": [
    "def callable_function1 (area):\n",
    "  feature=[[area]]\n",
    "  price_predict=model.predict(feature)\n",
    "  price_predict=price_predict.tolist()\n",
    "  return_val=json.dumps(price_predict)\n",
    "  event_id=uuid.uuid4()\n",
    "  timestamp=datetime.datetime.now(datetime.timezone.utc).isoformat()\n",
    "  pred_capture=data_capture_client.capturePrediction(feature,price_predict,event_id=event_id,timestamp=timestamp) #invoking the capturePrediction method on the DataCaptureClient object\n",
    "  print(f\"Output from data_capture_client : {pred_capture}\")\n",
    "  return return_val"
   ]
  },
  {
   "cell_type": "code",
   "execution_count": null,
   "id": "3892a812-b99a-4164-a0ca-61c1e93a4ba0",
   "metadata": {},
   "outputs": [],
   "source": []
  }
 ],
 "metadata": {
  "kernelspec": {
   "display_name": "Python 3 (ipykernel)",
   "language": "python",
   "name": "python3"
  },
  "language_info": {
   "codemirror_mode": {
    "name": "ipython",
    "version": 3
   },
   "file_extension": ".py",
   "mimetype": "text/x-python",
   "name": "python",
   "nbconvert_exporter": "python",
   "pygments_lexer": "ipython3",
   "version": "3.9.18"
  }
 },
 "nbformat": 4,
 "nbformat_minor": 5
}
